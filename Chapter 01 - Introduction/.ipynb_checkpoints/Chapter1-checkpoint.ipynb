{
  "cells": [
    {
      "cell_type": "markdown",
      "metadata": {
        "id": "p6Mkz88rW9Os"
      },
      "source": [
        "# Chapter 1 - Introduction: Key Concepts, Notation, Set Theory, Relations, and Functions\n",
        "\n",
        "This notebook contains code accompanying Chapter 1 Introduction: Key Concepts, Notation, Set Theory, Relations, and Functions in *Practical Discrete Mathematics* by Ryan T. White and Archana Tikayat Ray\n",
        "\n",
        "## Functions and Relations\n",
        "\n",
        "### The `sort()` function"
      ]
    },
    {
      "cell_type": "markdown",
      "source": [],
      "metadata": {
        "id": "GRAJ0kT1ZvHC"
      }
    },
    {
      "cell_type": "code",
      "execution_count": null,
      "metadata": {
        "id": "caIKKjZWW9Ou",
        "outputId": "a718a591-bf3d-40dc-ce7a-fb4d49fecb86",
        "colab": {
          "base_uri": "https://localhost:8080/"
        }
      },
      "outputs": [
        {
          "output_type": "stream",
          "name": "stdout",
          "text": [
            "[1, 2, 3, 4, 5, 8, 9, 12, 22, 56, 77]\n",
            "['Brandon', 'Elise', 'Eugene', 'Kumar', 'Lee', 'Wyatt', 'chan']\n"
          ]
        }
      ],
      "source": [
        "numbers = [3, 1, 4, 12, 8, 5, 2, 9, 22, 77, 56]\n",
        "names = ['Wyatt', 'Brandon', 'Kumar', 'Eugene', 'Elise', 'chan', 'Lee']\n",
        "\n",
        "# Apply the sort() function to the lists\n",
        "numbers.sort()\n",
        "names.sort()\n",
        "\n",
        "# Display the output\n",
        "print(numbers)\n",
        "print(names)"
      ]
    },
    {
      "cell_type": "markdown",
      "metadata": {
        "id": "EPgLs5EnW9Ow"
      },
      "source": [
        "### The `shuffle()` function"
      ]
    },
    {
      "cell_type": "code",
      "execution_count": null,
      "metadata": {
        "id": "KETiUyWiW9Ow",
        "outputId": "f4c6d6f5-ea73-4275-cacd-c5a6c1fbc3fa",
        "colab": {
          "base_uri": "https://localhost:8080/"
        }
      },
      "outputs": [
        {
          "output_type": "stream",
          "name": "stdout",
          "text": [
            "[22, 100, 3, 89, 5, 12, 2, 9, 67, 8, 1, 45, 4]\n",
            "[45, 12, 8, 22, 1, 5, 4, 100, 89, 67, 2, 3, 9]\n",
            "[9, 8, 4, 45, 12, 1, 5, 2, 89, 22, 67, 100, 3]\n",
            "[4, 3, 8, 45, 2, 67, 1, 5, 12, 22, 89, 9, 100]\n",
            "[45, 100, 9, 12, 89, 5, 3, 8, 4, 1, 67, 22, 2]\n"
          ]
        }
      ],
      "source": [
        "import random\n",
        "\n",
        "# Set a random seed so the code is reproducible\n",
        "random.seed(1)\n",
        "\n",
        "# Run the random.shuffle() function 5 times and display the outputs\n",
        "for i in range(0,5):\n",
        "    numbers = [3, 1, 4, 12, 8, 5, 2, 9, 22, 45, 67, 89, 100]\n",
        "    random.shuffle(numbers)\n",
        "    print(numbers)"
      ]
    },
    {
      "cell_type": "markdown",
      "source": [
        "#Write a python code that count the number of character in your English Full name"
      ],
      "metadata": {
        "id": "cWxzS4WoZxWP"
      }
    },
    {
      "cell_type": "markdown",
      "source": [
        "# Q1. Sort the numbers in decending order for the following code"
      ],
      "metadata": {
        "id": "-CQQwpoieap-"
      }
    },
    {
      "cell_type": "code",
      "source": [
        "numbers = [12, 22, 32, 45, 56]\n",
        "names = ['Foo', 'Loh', 'Fong', 'Lim', 'Chow']\n",
        "\n",
        "# Apply the sort() function to the lists\n",
        "numbers.sort()\n",
        "names.sort()\n",
        "\n",
        "# Display the output\n",
        "print(numbers)\n",
        "print(names)"
      ],
      "metadata": {
        "id": "erBCM6YqeMxH",
        "outputId": "db32f214-8536-45e3-bbb3-8b6ca71ec2ea",
        "colab": {
          "base_uri": "https://localhost:8080/"
        }
      },
      "execution_count": null,
      "outputs": [
        {
          "output_type": "stream",
          "name": "stdout",
          "text": [
            "[1, 2, 3, 4, 5, 8, 9, 12, 22, 56, 94]\n"
          ]
        }
      ]
    },
    {
      "cell_type": "markdown",
      "source": [
        "# Q2. Write a python code that count the number of character in your English Full name"
      ],
      "metadata": {
        "id": "u_TWKjntfMUe"
      }
    },
    {
      "cell_type": "code",
      "source": [
        "name = 'Foo Sze Jie'\n",
        "def remove(string):\n",
        "    return \"\".join(string.split())\n",
        "\n",
        "print('My name count is',name)\n",
        "\n",
        "print('My name count is',len(remove(name)))"
      ],
      "metadata": {
        "id": "cG6mVCRNfUTu",
        "outputId": "b180de05-0dd5-4828-9c66-f43f274d0285",
        "colab": {
          "base_uri": "https://localhost:8080/"
        }
      },
      "execution_count": null,
      "outputs": [
        {
          "output_type": "stream",
          "name": "stdout",
          "text": [
            "My name count is Foo Sze Jie\n",
            "My name count is 9\n"
          ]
        }
      ]
    },
    {
      "cell_type": "markdown",
      "source": [
        "#Assignment"
      ],
      "metadata": {
        "id": "Rm1xOcIDxV8I"
      }
    },
    {
      "cell_type": "markdown",
      "source": [
        "#Question 2"
      ],
      "metadata": {
        "id": "V2MhEMKaxXpn"
      }
    },
    {
      "cell_type": "code",
      "source": [
        "# Make a function to conduct Binary Search\n",
        "def binarySearch(arr, low, high, x) :\n",
        "\n",
        "  # Check whether the list length is grether than 1\n",
        "  if high >= low:\n",
        "\n",
        "    # Find the middle num\n",
        "    mid = (high + low)//2\n",
        "\n",
        "    # If the selected num is equal to element in middle array, will output the element\n",
        "    if x == arr[mid]:\n",
        "      return mid\n",
        "\n",
        "    # If the element in middle array is greater than selected num, will increase 1 in mid and reload the function\n",
        "    elif arr[mid] > x:\n",
        "      return binarySearch(arr, low, mid - 1, x)\n",
        "\n",
        "     # If the element in middle array is lower than selected num, will decrease 1 in mid and reload the function\n",
        "    else:\n",
        "      return binarySearch(arr, low, mid + 1, x)\n",
        "\n",
        "  # If the list length equal to 1 will not output element\n",
        "  else:\n",
        "    return -1\n",
        "\n",
        "# Testing\n",
        "s = [5,9,4,7,8,1,58,6,14]\n",
        "selectedNum = 58\n",
        "\n",
        "result = binarySearch(s, 0, len(s) - 1, selectedNum)\n",
        "\n",
        "if result != -1:\n",
        "  print(str(result), 'is found')\n",
        "else:\n",
        "  print(str(result), 'is not found')"
      ],
      "metadata": {
        "colab": {
          "base_uri": "https://localhost:8080/",
          "height": 425
        },
        "id": "4tTnJTsjxaoA",
        "outputId": "fd281fe5-cf0d-43b0-ff48-246e10aad8ef"
      },
      "execution_count": null,
      "outputs": [
        {
          "output_type": "error",
          "ename": "RecursionError",
          "evalue": "ignored",
          "traceback": [
            "\u001b[0;31m---------------------------------------------------------------------------\u001b[0m",
            "\u001b[0;31mRecursionError\u001b[0m                            Traceback (most recent call last)",
            "\u001b[0;32m<ipython-input-26-ea67b5370626>\u001b[0m in \u001b[0;36m<cell line: 30>\u001b[0;34m()\u001b[0m\n\u001b[1;32m     28\u001b[0m \u001b[0mselectedNum\u001b[0m \u001b[0;34m=\u001b[0m \u001b[0;36m58\u001b[0m\u001b[0;34m\u001b[0m\u001b[0;34m\u001b[0m\u001b[0m\n\u001b[1;32m     29\u001b[0m \u001b[0;34m\u001b[0m\u001b[0m\n\u001b[0;32m---> 30\u001b[0;31m \u001b[0mresult\u001b[0m \u001b[0;34m=\u001b[0m \u001b[0mbinarySearch\u001b[0m\u001b[0;34m(\u001b[0m\u001b[0ms\u001b[0m\u001b[0;34m,\u001b[0m \u001b[0;36m0\u001b[0m\u001b[0;34m,\u001b[0m \u001b[0mlen\u001b[0m\u001b[0;34m(\u001b[0m\u001b[0ms\u001b[0m\u001b[0;34m)\u001b[0m \u001b[0;34m-\u001b[0m \u001b[0;36m1\u001b[0m\u001b[0;34m,\u001b[0m \u001b[0mselectedNum\u001b[0m\u001b[0;34m)\u001b[0m\u001b[0;34m\u001b[0m\u001b[0;34m\u001b[0m\u001b[0m\n\u001b[0m\u001b[1;32m     31\u001b[0m \u001b[0;34m\u001b[0m\u001b[0m\n\u001b[1;32m     32\u001b[0m \u001b[0;32mif\u001b[0m \u001b[0mresult\u001b[0m \u001b[0;34m!=\u001b[0m \u001b[0;34m-\u001b[0m\u001b[0;36m1\u001b[0m\u001b[0;34m:\u001b[0m\u001b[0;34m\u001b[0m\u001b[0;34m\u001b[0m\u001b[0m\n",
            "\u001b[0;32m<ipython-input-26-ea67b5370626>\u001b[0m in \u001b[0;36mbinarySearch\u001b[0;34m(arr, low, high, x)\u001b[0m\n\u001b[1;32m     18\u001b[0m      \u001b[0;31m# If the element in middle array is lower than selected num, will decrease 1 in mid and reload the function\u001b[0m\u001b[0;34m\u001b[0m\u001b[0;34m\u001b[0m\u001b[0m\n\u001b[1;32m     19\u001b[0m     \u001b[0;32melse\u001b[0m\u001b[0;34m:\u001b[0m\u001b[0;34m\u001b[0m\u001b[0;34m\u001b[0m\u001b[0m\n\u001b[0;32m---> 20\u001b[0;31m       \u001b[0;32mreturn\u001b[0m \u001b[0mbinarySearch\u001b[0m\u001b[0;34m(\u001b[0m\u001b[0marr\u001b[0m\u001b[0;34m,\u001b[0m \u001b[0mlow\u001b[0m\u001b[0;34m,\u001b[0m \u001b[0mmid\u001b[0m \u001b[0;34m+\u001b[0m \u001b[0;36m1\u001b[0m\u001b[0;34m,\u001b[0m \u001b[0mx\u001b[0m\u001b[0;34m)\u001b[0m\u001b[0;34m\u001b[0m\u001b[0;34m\u001b[0m\u001b[0m\n\u001b[0m\u001b[1;32m     21\u001b[0m \u001b[0;34m\u001b[0m\u001b[0m\n\u001b[1;32m     22\u001b[0m   \u001b[0;31m# If the list length equal to 1 will not output element\u001b[0m\u001b[0;34m\u001b[0m\u001b[0;34m\u001b[0m\u001b[0m\n",
            "... last 1 frames repeated, from the frame below ...\n",
            "\u001b[0;32m<ipython-input-26-ea67b5370626>\u001b[0m in \u001b[0;36mbinarySearch\u001b[0;34m(arr, low, high, x)\u001b[0m\n\u001b[1;32m     18\u001b[0m      \u001b[0;31m# If the element in middle array is lower than selected num, will decrease 1 in mid and reload the function\u001b[0m\u001b[0;34m\u001b[0m\u001b[0;34m\u001b[0m\u001b[0m\n\u001b[1;32m     19\u001b[0m     \u001b[0;32melse\u001b[0m\u001b[0;34m:\u001b[0m\u001b[0;34m\u001b[0m\u001b[0;34m\u001b[0m\u001b[0m\n\u001b[0;32m---> 20\u001b[0;31m       \u001b[0;32mreturn\u001b[0m \u001b[0mbinarySearch\u001b[0m\u001b[0;34m(\u001b[0m\u001b[0marr\u001b[0m\u001b[0;34m,\u001b[0m \u001b[0mlow\u001b[0m\u001b[0;34m,\u001b[0m \u001b[0mmid\u001b[0m \u001b[0;34m+\u001b[0m \u001b[0;36m1\u001b[0m\u001b[0;34m,\u001b[0m \u001b[0mx\u001b[0m\u001b[0;34m)\u001b[0m\u001b[0;34m\u001b[0m\u001b[0;34m\u001b[0m\u001b[0m\n\u001b[0m\u001b[1;32m     21\u001b[0m \u001b[0;34m\u001b[0m\u001b[0m\n\u001b[1;32m     22\u001b[0m   \u001b[0;31m# If the list length equal to 1 will not output element\u001b[0m\u001b[0;34m\u001b[0m\u001b[0;34m\u001b[0m\u001b[0m\n",
            "\u001b[0;31mRecursionError\u001b[0m: maximum recursion depth exceeded in comparison"
          ]
        }
      ]
    },
    {
      "cell_type": "markdown",
      "source": [
        "# Method 2"
      ],
      "metadata": {
        "id": "lNZ5m0o-BxyX"
      }
    },
    {
      "cell_type": "code",
      "source": [
        "# Make a function to conduct Binary Search\n",
        "def binarySearch(arr, min, max, x) :\n",
        "\n",
        "  # Check whether the list length is greater than 1\n",
        "    while max >= min:\n",
        "        # Find the middle index\n",
        "        mid = (max + min) // 2\n",
        "\n",
        "        # If the selected num is equal to the element in the middle array, return the index\n",
        "        if x == arr[mid]:\n",
        "            return arr[mid]\n",
        "\n",
        "        # If the element in the middle array is greater than the selected num,\n",
        "        # update max to mid - 1\n",
        "        elif arr[mid] > x:\n",
        "            max = mid - 1\n",
        "        # If the element in the middle array is lower than the selected num,\n",
        "        # update min to mid + 1\n",
        "        else:\n",
        "            min = mid + 1\n",
        "\n",
        "    # If the list length is equal to 1, the element is not found\n",
        "    return -1\n",
        "\n",
        "# Testing\n",
        "s = [5,9,4,7,8,1,58,6,14]\n",
        "selectedNum = 58\n",
        "\n",
        "result = binarySearch(s, 0, len(s) - 1, selectedNum)\n",
        "\n",
        "if result != -1:\n",
        "  print(str(result), 'is found')\n",
        "else:\n",
        "  print(selectedNum, 'is not found')"
      ],
      "metadata": {
        "colab": {
          "base_uri": "https://localhost:8080/"
        },
        "id": "hidt-vXwBw0v",
        "outputId": "bc29a53d-5222-407e-b301-4c3220d55953"
      },
      "execution_count": null,
      "outputs": [
        {
          "output_type": "stream",
          "name": "stdout",
          "text": [
            "58 is found\n"
          ]
        }
      ]
    },
    {
      "cell_type": "markdown",
      "source": [
        "#Question 3\n"
      ],
      "metadata": {
        "id": "_jfpFjoQFhwU"
      }
    },
    {
      "cell_type": "markdown",
      "source": [
        "# A. Insertion Sort"
      ],
      "metadata": {
        "id": "jAZHe1qEFkYu"
      }
    },
    {
      "cell_type": "code",
      "source": [
        "def insertionSort(arr):\n",
        "\n",
        "  # Get array length\n",
        "  n = len(arr)\n",
        "\n",
        "  # If the array only one value will auto return\n",
        "  if n <= 1:\n",
        "    return\n",
        "\n",
        "  # For loop start from 1 until the array length\n",
        "  for i in range(1, n):\n",
        "\n",
        "    # Assign first value\n",
        "    num1 = arr[i]\n",
        "\n",
        "    # Assign second value\n",
        "    num2 = i - 1\n",
        "\n",
        "    # When second value greather than 0 and first value\n",
        "    while num2 >=0 and num1 < arr[num2]:\n",
        "\n",
        "      # Assign the new value to second value\n",
        "      arr[num2 + 1] = arr[num2]\n",
        "      num2 -=1\n",
        "\n",
        "    # Assign second value to first value\n",
        "    arr[num2 + 1] = num1\n",
        "\n",
        "# Testing\n",
        "A = [\"myvi\", \"kancil\", \"axia\", \"kenari\", \"viva\", \"rusa\"]\n",
        "insertionSort(A)\n",
        "print(A)"
      ],
      "metadata": {
        "colab": {
          "base_uri": "https://localhost:8080/"
        },
        "id": "oW1PAKufFos7",
        "outputId": "ff14edd1-7434-4f1f-864f-cf083ccd7a8e"
      },
      "execution_count": null,
      "outputs": [
        {
          "output_type": "stream",
          "name": "stdout",
          "text": [
            "['axia', 'kancil', 'kenari', 'myvi', 'rusa', 'viva']\n"
          ]
        }
      ]
    },
    {
      "cell_type": "markdown",
      "source": [
        "#B. Merge Sort"
      ],
      "metadata": {
        "id": "fd9c6_CAJcjc"
      }
    },
    {
      "cell_type": "code",
      "source": [
        "def merge(arr, left, mid, right):\n",
        "    # Calculate the sizes of the two subarrays\n",
        "    num1 = mid - left + 1\n",
        "    num2 = right - mid\n",
        "\n",
        "    # Create temporary arrays to hold the values of the two subarrays\n",
        "    L = [0] * num1\n",
        "    R = [0] * num2\n",
        "\n",
        "    # Copy data to temporary arrays L[] and R[]\n",
        "    for i in range(0, num1):\n",
        "        L[i] = arr[left + i]\n",
        "\n",
        "    for j in range(0, num2):\n",
        "        R[j] = arr[mid + 1 + j]\n",
        "\n",
        "    # Merge the temporary arrays back into arr[left...right]\n",
        "\n",
        "    # Initialize indices for the two subarrays and the merged array\n",
        "    i = 0\n",
        "    j = 0\n",
        "    k = left  # Initialize k to the starting index of the subarray\n",
        "\n",
        "    # Merge the two subarrays while maintaining the sorted order\n",
        "    while i < num1 and j < num2:\n",
        "        if L[i] <= R[j]:\n",
        "            arr[k] = L[i]\n",
        "            i += 1\n",
        "        else:\n",
        "            arr[k] = R[j]\n",
        "            j += 1\n",
        "        k += 1\n",
        "\n",
        "    # Copy the remaining elements of L[], if there are any\n",
        "    while i < num1:\n",
        "        arr[k] = L[i]\n",
        "        i += 1\n",
        "        k += 1\n",
        "\n",
        "    # Copy the remaining elements of R[], if there are any\n",
        "    while j < num2:\n",
        "        arr[k] = R[j]\n",
        "        j += 1\n",
        "        k += 1\n",
        "\n",
        "def mergeSort(arr, left, right):\n",
        "    if left < right:\n",
        "        # Calculate the middle index\n",
        "        mid = (left + right) // 2\n",
        "\n",
        "        # Recursively sort the first and second halves\n",
        "        mergeSort(arr, left, mid)\n",
        "        mergeSort(arr, mid + 1, right)\n",
        "\n",
        "        # Merge the sorted halves\n",
        "        merge(arr, left, mid, right)\n",
        "\n",
        "# Testing\n",
        "A = [\"myvi\", \"kancil\", \"axia\", \"kenari\", \"viva\", \"rusa\"]\n",
        "x = len(A)\n",
        "\n",
        "# Perform merge sort on the array\n",
        "mergeSort(A, 0, x - 1)\n",
        "\n",
        "# Print the sorted array\n",
        "for i in range(x):\n",
        "    print(\"%s\" % A[i], end=\" \")\n"
      ],
      "metadata": {
        "colab": {
          "base_uri": "https://localhost:8080/"
        },
        "id": "TqB5v7fTJfaD",
        "outputId": "17a25f90-88e0-41bf-f2d6-9e99d5286410"
      },
      "execution_count": null,
      "outputs": [
        {
          "output_type": "stream",
          "name": "stdout",
          "text": [
            "axia kancil kenari myvi rusa viva "
          ]
        }
      ]
    },
    {
      "cell_type": "markdown",
      "source": [
        "#C. Cocktail Sort"
      ],
      "metadata": {
        "id": "Eof156YdPSao"
      }
    },
    {
      "cell_type": "code",
      "source": [
        "def cocktailSort(arr):\n",
        "  # Constructor\n",
        "  x = len(arr)\n",
        "  swapped = True\n",
        "  start = 0\n",
        "  end = x - 1\n",
        "\n",
        "  # When swapped equal to true, looping\n",
        "  while(swapped == True):\n",
        "    # Change swapped become to False\n",
        "    swapped = False\n",
        "\n",
        "    # If array element is greather than post-element, swapping and change the swapped become True\n",
        "    for i in range(start, end):\n",
        "      if(arr[i] > arr[i + 1]):\n",
        "        arr[i], arr[i + 1] = arr[i + 1], arr[i]\n",
        "        swapped = True\n",
        "\n",
        "      # If swapped is False, Exit the Function\n",
        "      if(swapped == False):\n",
        "        break\n",
        "\n",
        "      swapped = False\n",
        "\n",
        "      end -= 1\n",
        "\n",
        "      # If array element is greather than post-element, swapping and change the swapped become True\n",
        "      for i in range(end - 1, start - 1, -1):\n",
        "        if(arr[i] > arr[i + 1]):\n",
        "          arr[i], arr[i + 1] = arr[i + 1], arr[i]\n",
        "          swapped = True\n",
        "\n",
        "      start += 1\n",
        "\n",
        "# Testing\n",
        "A = [\"myvi\", \"kancil\", \"axia\", \"kenari\", \"viva\", \"rusa\"]\n",
        "x = len(A)\n",
        "cocktailSort(A)\n",
        "\n",
        "# Print the sorted array\n",
        "for i in range(x):\n",
        "    print(\"%s\" % A[i], end=\" \")\n"
      ],
      "metadata": {
        "colab": {
          "base_uri": "https://localhost:8080/"
        },
        "id": "aRPitoYxPV1I",
        "outputId": "c3595671-1d7e-4a2b-dee1-45c6722b32cf"
      },
      "execution_count": null,
      "outputs": [
        {
          "output_type": "stream",
          "name": "stdout",
          "text": [
            "axia kancil kenari myvi viva rusa "
          ]
        }
      ]
    },
    {
      "cell_type": "markdown",
      "source": [
        "#D. Pigeonhole Sort"
      ],
      "metadata": {
        "id": "UUT1nkTuS6zm"
      }
    },
    {
      "cell_type": "code",
      "source": [
        "def pigeonholeSort(arr):\n",
        "\n",
        "  # Constructor\n",
        "  first_chars = [string[0] for string in arr]\n",
        "  minChar = min(ord(char) for char in first_chars)\n",
        "  maxChar = max(ord(char) for char in first_chars)\n",
        "  size = maxChar -minChar + 1\n",
        "\n",
        "  # List of Pigeonhole\n",
        "  holes = [[] for _ in range(size)]\n",
        "\n",
        "  # Distribute elements into pigeonholes\n",
        "  for string in arr:\n",
        "    holes[ord(string[0]) - minChar].append(string)\n",
        "\n",
        "  # Gather elements from pigeonholes\n",
        "  result = []\n",
        "  for hole in holes:\n",
        "      result.extend(hole)\n",
        "\n",
        "  return result\n",
        "\n",
        "# Testing\n",
        "A = [\"myvi\", \"kancil\", \"axia\", \"kenari\", \"viva\", \"rusa\"]\n",
        "x = pigeonholeSort(A)\n",
        "\n",
        "# Print the sorted array\n",
        "for i in x:\n",
        "    print(\"%s\" % i, end=\" \")"
      ],
      "metadata": {
        "colab": {
          "base_uri": "https://localhost:8080/"
        },
        "id": "ZYMjUlj8S_I9",
        "outputId": "eaceeb3f-7fd4-4655-db5c-ad31a328980e"
      },
      "execution_count": null,
      "outputs": [
        {
          "output_type": "stream",
          "name": "stdout",
          "text": [
            "axia kancil kenari myvi rusa viva "
          ]
        }
      ]
    },
    {
      "cell_type": "markdown",
      "source": [
        "#E. num"
      ],
      "metadata": {
        "id": "YmJ1SbzGgTOn"
      }
    },
    {
      "cell_type": "code",
      "source": [
        "def sum(arr):\n",
        "  maxNum = max(arr)\n",
        "  minNum = min(arr)\n",
        "\n",
        "  sum = maxNum + minNum\n",
        "\n",
        "  return sum\n",
        "\n",
        "# Testing\n",
        "B = [12, 34, 100, 64, 78, 9]\n",
        "\n",
        "print(sum(B))"
      ],
      "metadata": {
        "colab": {
          "base_uri": "https://localhost:8080/"
        },
        "id": "WW62hX0ogXrH",
        "outputId": "9ceab04d-3918-4db7-a21a-40a62b76b955"
      },
      "execution_count": null,
      "outputs": [
        {
          "output_type": "stream",
          "name": "stdout",
          "text": [
            "109\n"
          ]
        }
      ]
    },
    {
      "cell_type": "code",
      "source": [
        "def multiple(arr):\n",
        "  maxNum = max(arr)\n",
        "  minNum = min(arr)\n",
        "\n",
        "  multiplication = maxNum * minNum\n",
        "\n",
        "  return multiplication\n",
        "\n",
        "# Testing\n",
        "B = [12, 34, 100, 64, 78, 9]\n",
        "\n",
        "print(multiple(B))"
      ],
      "metadata": {
        "colab": {
          "base_uri": "https://localhost:8080/"
        },
        "id": "av4gLuo_hfJ3",
        "outputId": "e7f44d8a-2e73-4b35-e5c6-837c3b2b658a"
      },
      "execution_count": null,
      "outputs": [
        {
          "output_type": "stream",
          "name": "stdout",
          "text": [
            "900\n"
          ]
        }
      ]
    },
    {
      "cell_type": "code",
      "source": [
        "# Calculate the exponent Number of Smallest Number\n",
        "def exponentMinNum(arr):\n",
        "\n",
        "  minNum = min(arr)\n",
        "  ans = 0\n",
        "\n",
        "  if (ans != minNum):\n",
        "    for j in range(1, 10):\n",
        "      for i in range(minNum):\n",
        "        result=i ** j\n",
        "        if(result==minNum):\n",
        "          ans = j\n",
        "          break\n",
        "        if(result > minNum):\n",
        "          break\n",
        "      if(result==minNum):\n",
        "        return ans\n",
        "\n",
        "# Calculate the exponent Number of Largest Number\n",
        "def exponentMaxNum(arr):\n",
        "\n",
        "  maxNum = max(arr)\n",
        "  ans = 0\n",
        "\n",
        "  if (ans != maxNum):\n",
        "    for j in range(1, 10):\n",
        "      for i in range(maxNum):\n",
        "        result=i ** j\n",
        "        if(result==maxNum):\n",
        "          ans = j\n",
        "          break\n",
        "        if(result > maxNum):\n",
        "          break\n",
        "      if(result == maxNum):\n",
        "        return ans\n",
        "\n",
        "# Calculate the Base Number of Smallest Number\n",
        "def baseMinNum(arr):\n",
        "\n",
        "  minNum = min(arr)\n",
        "  ans = 0\n",
        "\n",
        "  if (ans != minNum):\n",
        "    for j in range(1, 10):\n",
        "      for i in range(minNum):\n",
        "        result=i ** j\n",
        "        if(result==minNum):\n",
        "          ans = i\n",
        "          break\n",
        "        if(result > minNum):\n",
        "          break\n",
        "      if(result == minNum):\n",
        "        return ans\n",
        "\n",
        "\n",
        "# Calculate the Base Number of Largest Number\n",
        "def baseMaxNum(arr):\n",
        "\n",
        "  maxNum = max(arr)\n",
        "  ans = 0\n",
        "\n",
        "  if (ans != maxNum):\n",
        "    for j in range(1, 10):\n",
        "      for i in range(maxNum):\n",
        "        result=i ** j\n",
        "        if(result==maxNum):\n",
        "          ans = i\n",
        "          break\n",
        "        if(result > maxNum):\n",
        "          break\n",
        "      if(result==maxNum):\n",
        "        return ans\n",
        "\n",
        "# Testing\n",
        "B = [12, 34, 100, 64, 78, 9]\n",
        "\n",
        "print('The Smallest Number is', min(B))\n",
        "print('The Base Number is',baseMinNum(B))\n",
        "print('The Exponent Number is',exponentMinNum(B))\n",
        "\n",
        "print()\n",
        "\n",
        "print('The Largest Number is', max(B))\n",
        "print('The Base Number is',baseMaxNum(B))\n",
        "print('The Exponent Number is',exponentMaxNum(B))"
      ],
      "metadata": {
        "colab": {
          "base_uri": "https://localhost:8080/"
        },
        "id": "JrM4fW9TiIeO",
        "outputId": "cad7a604-849e-48fa-bcb2-4202eb48839f"
      },
      "execution_count": 60,
      "outputs": [
        {
          "output_type": "stream",
          "name": "stdout",
          "text": [
            "The Smallest Number is 9\n",
            "The Base Number is 3\n",
            "The Exponent Number is 2\n",
            "\n",
            "The Largest Number is 100\n",
            "The Base Number is 10\n",
            "The Exponent Number is 2\n"
          ]
        }
      ]
    },
    {
      "cell_type": "markdown",
      "source": [
        "#Question 4"
      ],
      "metadata": {
        "id": "WbIKqpbyljnL"
      }
    },
    {
      "cell_type": "code",
      "source": [
        "#Three lines to make our compiler able to draw:\n",
        "import sys\n",
        "import matplotlib\n",
        "matplotlib.use('Agg')\n",
        "\n",
        "import pandas as pd\n",
        "from sklearn import tree\n",
        "from sklearn.tree import DecisionTreeClassifier, plot_tree\n",
        "import matplotlib.pyplot as plt\n",
        "from datetime import datetime\n",
        "\n",
        "def decisionTree(file):\n",
        "\n",
        "  # Change the Program become number\n",
        "  d = {\n",
        "      'Foundation in Art' : 0,\n",
        "      'Foundation in Science' : 1\n",
        "      }\n",
        "  file['Program'] = file['Program'].map(d)\n",
        "\n",
        "  # Calculate the age\n",
        "  file['Birthday'] = file['Birthday'].apply(calculate_age)\n",
        "\n",
        "  # Change the Advance Math become Boolean\n",
        "  d = {\n",
        "      'No' : False,\n",
        "      'Yes' : True\n",
        "      }\n",
        "  file['Hava you study Advanced Mathematics in your secondary school?'] = file['Hava you study Advanced Mathematics in your secondary school?'].map(d)\n",
        "\n",
        "  # Change the Goal become number\n",
        "  d = {\n",
        "      'like to play computer' : 0,\n",
        "      'I like coding' : 1,\n",
        "      'just enrol for fun' : 2,\n",
        "      'I follow my friend' : 3,\n",
        "      }\n",
        "  file['What is your goal of study this subject?'] = file['What is your goal of study this subject?'].map(d)\n",
        "\n",
        "  # Change the Grade become number\n",
        "  d = {\n",
        "      'just pass this subject' : 0,\n",
        "      'get grade A' : 1,\n",
        "      'get grade B' : 2,\n",
        "      'get grade C' : 3\n",
        "      }\n",
        "  file['I wish to score'] = file['I wish to score'].map(d)\n",
        "\n",
        "  # Change the Gender become number\n",
        "  d = {\n",
        "      'Female' : 0,\n",
        "      'Male' : 1\n",
        "      }\n",
        "  file['Gender'] = file['Gender'].map(d)\n",
        "\n",
        "  features = [\n",
        "      'Birthday',\n",
        "      'Hava you study Advanced Mathematics in your secondary school?',\n",
        "      'What is your goal of study this subject?',\n",
        "      'I wish to score',\n",
        "      'Gender'\n",
        "      ]\n",
        "\n",
        "  featureName = [\n",
        "      'Age',\n",
        "      \"whether study add math\",\n",
        "      'Goal of subject',\n",
        "      'Wish score',\n",
        "      'Gender'\n",
        "                 ]\n",
        "\n",
        "  X = file[features]\n",
        "  y = file['Program']\n",
        "\n",
        "  dtree = DecisionTreeClassifier()\n",
        "  dtree = dtree.fit(X, y)\n",
        "\n",
        "  plt.figure(figsize=(20, 16))\n",
        "  plot_tree(dtree, filled=True, feature_names=featureName, fontsize=15)\n",
        "  # tree.plot_tree(dtree, feature_names=features)\n",
        "  plt.savefig(\"decision_tree.png\")\n",
        "\n",
        "def calculate_age(birthdate):\n",
        "    # Convert the birthdate string to a datetime object\n",
        "    # birthdate = datetime.strptime(birthdate, '%m/%d/%Y')\n",
        "\n",
        "    # Get the current date\n",
        "    current_date = datetime.now()\n",
        "\n",
        "    # Calculate the difference in years\n",
        "    age = current_date.year - birthdate.year - ((current_date.month, current_date.day) < (birthdate.month, birthdate.day))\n",
        "\n",
        "    return age\n",
        "\n",
        "# Testing\n",
        "df = pd.read_excel(\"SubjectGoal.xlsx\")\n",
        "decisionTree(df)\n",
        "\n",
        "print(df)\n"
      ],
      "metadata": {
        "id": "ROHCAJe1lmWS",
        "colab": {
          "base_uri": "https://localhost:8080/"
        },
        "outputId": "31390e87-2e68-4da3-a9af-cd5edff3a038"
      },
      "execution_count": null,
      "outputs": [
        {
          "output_type": "stream",
          "name": "stdout",
          "text": [
            "    Program  Birthday  \\\n",
            "0         0        18   \n",
            "1         0        19   \n",
            "2         0        19   \n",
            "3         0        18   \n",
            "4         0        18   \n",
            "..      ...       ...   \n",
            "56        0        18   \n",
            "57        0        20   \n",
            "58        0        18   \n",
            "59        0        20   \n",
            "60        0        18   \n",
            "\n",
            "    Hava you study Advanced Mathematics in your secondary school?  \\\n",
            "0                                                True               \n",
            "1                                                True               \n",
            "2                                               False               \n",
            "3                                                True               \n",
            "4                                               False               \n",
            "..                                                ...               \n",
            "56                                               True               \n",
            "57                                              False               \n",
            "58                                               True               \n",
            "59                                              False               \n",
            "60                                               True               \n",
            "\n",
            "   Do you play any mobile games / computer games? What is it?  \\\n",
            "0                                            Valorant           \n",
            "1                                the crew,Brawlhalla            \n",
            "2                                   Honkai: Star Rail           \n",
            "3                                                  No           \n",
            "4                       genshin impact honkai starial           \n",
            "..                                                ...           \n",
            "56  Tower of Saviours (TOS) , Clash of Clans (COC)...           \n",
            "57                                                 No           \n",
            "58                                     Cyberpunk 2077           \n",
            "59                                    Yes. PUBG china           \n",
            "60                                        王者荣耀 崩坏星穹铁道           \n",
            "\n",
            "    What is your goal of study this subject?  I wish to score  Gender  \n",
            "0                                          0                1       1  \n",
            "1                                          1                1       1  \n",
            "2                                          2                0       0  \n",
            "3                                          2                1       0  \n",
            "4                                          0                0       0  \n",
            "..                                       ...              ...     ...  \n",
            "56                                         0                3       1  \n",
            "57                                         1                0       0  \n",
            "58                                         0                3       1  \n",
            "59                                         2                2       0  \n",
            "60                                         2                2       1  \n",
            "\n",
            "[61 rows x 7 columns]\n"
          ]
        }
      ]
    }
  ],
  "metadata": {
    "kernelspec": {
      "display_name": "Python 3",
      "name": "python3"
    },
    "language_info": {
      "name": "python"
    },
    "colab": {
      "provenance": []
    }
  },
  "nbformat": 4,
  "nbformat_minor": 0
}