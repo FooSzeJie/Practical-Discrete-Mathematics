{
  "cells": [
    {
      "cell_type": "markdown",
      "metadata": {
        "id": "p6Mkz88rW9Os"
      },
      "source": [
        "# Chapter 1 - Introduction: Key Concepts, Notation, Set Theory, Relations, and Functions\n",
        "\n",
        "This notebook contains code accompanying Chapter 1 Introduction: Key Concepts, Notation, Set Theory, Relations, and Functions in *Practical Discrete Mathematics* by Ryan T. White and Archana Tikayat Ray\n",
        "\n",
        "## Functions and Relations\n",
        "\n",
        "### The `sort()` function"
      ]
    },
    {
      "cell_type": "markdown",
      "source": [],
      "metadata": {
        "id": "GRAJ0kT1ZvHC"
      }
    },
    {
      "cell_type": "code",
      "execution_count": null,
      "metadata": {
        "id": "caIKKjZWW9Ou",
        "outputId": "a718a591-bf3d-40dc-ce7a-fb4d49fecb86",
        "colab": {
          "base_uri": "https://localhost:8080/"
        }
      },
      "outputs": [
        {
          "output_type": "stream",
          "name": "stdout",
          "text": [
            "[1, 2, 3, 4, 5, 8, 9, 12, 22, 56, 77]\n",
            "['Brandon', 'Elise', 'Eugene', 'Kumar', 'Lee', 'Wyatt', 'chan']\n"
          ]
        }
      ],
      "source": [
        "numbers = [3, 1, 4, 12, 8, 5, 2, 9, 22, 77, 56]\n",
        "names = ['Wyatt', 'Brandon', 'Kumar', 'Eugene', 'Elise', 'chan', 'Lee']\n",
        "\n",
        "# Apply the sort() function to the lists\n",
        "numbers.sort()\n",
        "names.sort()\n",
        "\n",
        "# Display the output\n",
        "print(numbers)\n",
        "print(names)"
      ]
    },
    {
      "cell_type": "markdown",
      "metadata": {
        "id": "EPgLs5EnW9Ow"
      },
      "source": [
        "### The `shuffle()` function"
      ]
    },
    {
      "cell_type": "code",
      "execution_count": null,
      "metadata": {
        "id": "KETiUyWiW9Ow",
        "outputId": "f4c6d6f5-ea73-4275-cacd-c5a6c1fbc3fa",
        "colab": {
          "base_uri": "https://localhost:8080/"
        }
      },
      "outputs": [
        {
          "output_type": "stream",
          "name": "stdout",
          "text": [
            "[22, 100, 3, 89, 5, 12, 2, 9, 67, 8, 1, 45, 4]\n",
            "[45, 12, 8, 22, 1, 5, 4, 100, 89, 67, 2, 3, 9]\n",
            "[9, 8, 4, 45, 12, 1, 5, 2, 89, 22, 67, 100, 3]\n",
            "[4, 3, 8, 45, 2, 67, 1, 5, 12, 22, 89, 9, 100]\n",
            "[45, 100, 9, 12, 89, 5, 3, 8, 4, 1, 67, 22, 2]\n"
          ]
        }
      ],
      "source": [
        "import random\n",
        "\n",
        "# Set a random seed so the code is reproducible\n",
        "random.seed(1)\n",
        "\n",
        "# Run the random.shuffle() function 5 times and display the outputs\n",
        "for i in range(0,5):\n",
        "    numbers = [3, 1, 4, 12, 8, 5, 2, 9, 22, 45, 67, 89, 100]\n",
        "    random.shuffle(numbers)\n",
        "    print(numbers)"
      ]
    },
    {
      "cell_type": "markdown",
      "source": [
        "#Write a python code that count the number of character in your English Full name"
      ],
      "metadata": {
        "id": "cWxzS4WoZxWP"
      }
    },
    {
      "cell_type": "markdown",
      "source": [
        "# Q1. Sort the numbers in decending order for the following code"
      ],
      "metadata": {
        "id": "-CQQwpoieap-"
      }
    },
    {
      "cell_type": "code",
      "source": [
        "numbers = [12, 22, 32, 45, 56]\n",
        "names = ['Foo', 'Loh', 'Fong', 'Lim', 'Chow']\n",
        "\n",
        "# Apply the sort() function to the lists\n",
        "numbers.sort()\n",
        "names.sort()\n",
        "\n",
        "# Display the output\n",
        "print(numbers)\n",
        "print(names)"
      ],
      "metadata": {
        "id": "erBCM6YqeMxH",
        "outputId": "db32f214-8536-45e3-bbb3-8b6ca71ec2ea",
        "colab": {
          "base_uri": "https://localhost:8080/"
        }
      },
      "execution_count": null,
      "outputs": [
        {
          "output_type": "stream",
          "name": "stdout",
          "text": [
            "[1, 2, 3, 4, 5, 8, 9, 12, 22, 56, 94]\n"
          ]
        }
      ]
    },
    {
      "cell_type": "markdown",
      "source": [
        "# Q2. Write a python code that count the number of character in your English Full name"
      ],
      "metadata": {
        "id": "u_TWKjntfMUe"
      }
    },
    {
      "cell_type": "code",
      "source": [
        "name = 'Foo Sze Jie'\n",
        "def remove(string):\n",
        "    return \"\".join(string.split())\n",
        "\n",
        "print('My name count is',name)\n",
        "\n",
        "print('My name count is',len(remove(name)))"
      ],
      "metadata": {
        "id": "cG6mVCRNfUTu",
        "outputId": "b180de05-0dd5-4828-9c66-f43f274d0285",
        "colab": {
          "base_uri": "https://localhost:8080/"
        }
      },
      "execution_count": null,
      "outputs": [
        {
          "output_type": "stream",
          "name": "stdout",
          "text": [
            "My name count is Foo Sze Jie\n",
            "My name count is 9\n"
          ]
        }
      ]
    },
    {
      "cell_type": "markdown",
      "source": [
        "#Assignment"
      ],
      "metadata": {
        "id": "Rm1xOcIDxV8I"
      }
    },
    {
      "cell_type": "markdown",
      "source": [
        "#Question 2"
      ],
      "metadata": {
        "id": "V2MhEMKaxXpn"
      }
    },
    {
      "cell_type": "code",
      "source": [
        "# Make a function to conduct Binary Search\n",
        "def binarySearch(arr, low, high, x) :\n",
        "\n",
        "  # Check whether the list length is grether than 1\n",
        "  if high >= low:\n",
        "\n",
        "    # Find the middle num\n",
        "    mid = (high + low)/2\n",
        "\n",
        "    # If the selected num is equal to element in middle array, will output the element\n",
        "    if x == arr[mid]:\n",
        "      return mid\n",
        "\n",
        "    # If the element in middle array is greater than selected num, will increase 1 in mid and reload the function\n",
        "    elif arr[mid] > x:\n",
        "      return binarySearch(arr, low, mid - 1, x)\n",
        "\n",
        "     # If the element in middle array is lower than selected num, will decrease 1 in mid and reload the function\n",
        "    else:\n",
        "      return binarySearch(arr, low, mid + 1, x)\n",
        "\n",
        "  # If the list length equal to 1 will not output element\n",
        "  else:\n",
        "    return -1\n",
        "\n",
        "# Testing\n",
        "s = [5,9,4,7,8,1,58,6,14]\n",
        "selectedNum = 58\n",
        "\n",
        "result = binarySearch(s, 0, len(s) - 1, selectedNum)\n",
        "\n",
        "if result != -1:\n",
        "  print(str(result), 'is found')\n",
        "else:\n",
        "  print(str(result), 'is not found')"
      ],
      "metadata": {
        "id": "4tTnJTsjxaoA",
        "outputId": "55a4c867-e441-444e-eabc-32b0686c1bc0",
        "colab": {
          "base_uri": "https://localhost:8080/",
          "height": 366
        }
      },
      "execution_count": 8,
      "outputs": [
        {
          "output_type": "error",
          "ename": "TypeError",
          "evalue": "ignored",
          "traceback": [
            "\u001b[0;31m---------------------------------------------------------------------------\u001b[0m",
            "\u001b[0;31mTypeError\u001b[0m                                 Traceback (most recent call last)",
            "\u001b[0;32m<ipython-input-8-d14d684fb127>\u001b[0m in \u001b[0;36m<cell line: 30>\u001b[0;34m()\u001b[0m\n\u001b[1;32m     28\u001b[0m \u001b[0mselectedNum\u001b[0m \u001b[0;34m=\u001b[0m \u001b[0;36m58\u001b[0m\u001b[0;34m\u001b[0m\u001b[0;34m\u001b[0m\u001b[0m\n\u001b[1;32m     29\u001b[0m \u001b[0;34m\u001b[0m\u001b[0m\n\u001b[0;32m---> 30\u001b[0;31m \u001b[0mresult\u001b[0m \u001b[0;34m=\u001b[0m \u001b[0mbinarySearch\u001b[0m\u001b[0;34m(\u001b[0m\u001b[0ms\u001b[0m\u001b[0;34m,\u001b[0m \u001b[0;36m0\u001b[0m\u001b[0;34m,\u001b[0m \u001b[0mlen\u001b[0m\u001b[0;34m(\u001b[0m\u001b[0ms\u001b[0m\u001b[0;34m)\u001b[0m \u001b[0;34m-\u001b[0m \u001b[0;36m1\u001b[0m\u001b[0;34m,\u001b[0m \u001b[0mselectedNum\u001b[0m\u001b[0;34m)\u001b[0m\u001b[0;34m\u001b[0m\u001b[0;34m\u001b[0m\u001b[0m\n\u001b[0m\u001b[1;32m     31\u001b[0m \u001b[0;34m\u001b[0m\u001b[0m\n\u001b[1;32m     32\u001b[0m \u001b[0;32mif\u001b[0m \u001b[0mresult\u001b[0m \u001b[0;34m!=\u001b[0m \u001b[0;34m-\u001b[0m\u001b[0;36m1\u001b[0m\u001b[0;34m:\u001b[0m\u001b[0;34m\u001b[0m\u001b[0;34m\u001b[0m\u001b[0m\n",
            "\u001b[0;32m<ipython-input-8-d14d684fb127>\u001b[0m in \u001b[0;36mbinarySearch\u001b[0;34m(arr, low, high, x)\u001b[0m\n\u001b[1;32m      9\u001b[0m \u001b[0;34m\u001b[0m\u001b[0m\n\u001b[1;32m     10\u001b[0m     \u001b[0;31m# If the selected num is equal to element in middle array, will output the element\u001b[0m\u001b[0;34m\u001b[0m\u001b[0;34m\u001b[0m\u001b[0m\n\u001b[0;32m---> 11\u001b[0;31m     \u001b[0;32mif\u001b[0m \u001b[0mx\u001b[0m \u001b[0;34m==\u001b[0m \u001b[0marr\u001b[0m\u001b[0;34m[\u001b[0m\u001b[0mmid\u001b[0m\u001b[0;34m]\u001b[0m\u001b[0;34m:\u001b[0m\u001b[0;34m\u001b[0m\u001b[0;34m\u001b[0m\u001b[0m\n\u001b[0m\u001b[1;32m     12\u001b[0m       \u001b[0;32mreturn\u001b[0m \u001b[0mmid\u001b[0m\u001b[0;34m\u001b[0m\u001b[0;34m\u001b[0m\u001b[0m\n\u001b[1;32m     13\u001b[0m \u001b[0;34m\u001b[0m\u001b[0m\n",
            "\u001b[0;31mTypeError\u001b[0m: list indices must be integers or slices, not float"
          ]
        }
      ]
    },
    {
      "cell_type": "markdown",
      "source": [
        "# Method 2"
      ],
      "metadata": {
        "id": "lNZ5m0o-BxyX"
      }
    },
    {
      "cell_type": "code",
      "source": [
        "# Make a function to conduct Binary Search\n",
        "def binarySearch(arr, min, max, x) :\n",
        "\n",
        "  # Check whether the list length is greater than 1\n",
        "    while max >= min:\n",
        "        # Find the middle index\n",
        "        mid = (max + min) // 2\n",
        "\n",
        "        # If the selected num is equal to the element in the middle array, return the index\n",
        "        if x == arr[mid]:\n",
        "            return arr[mid]\n",
        "\n",
        "        # If the element in the middle array is greater than the selected num,\n",
        "        # update max to mid - 1\n",
        "        elif arr[mid] > x:\n",
        "            max = mid - 1\n",
        "        # If the element in the middle array is lower than the selected num,\n",
        "        # update min to mid + 1\n",
        "        else:\n",
        "            min = mid + 1\n",
        "\n",
        "    # If the list length is equal to 1, the element is not found\n",
        "    return -1\n",
        "\n",
        "# Testing\n",
        "s = [5,9,4,7,8,1,58,6,14]\n",
        "selectedNum = 58\n",
        "\n",
        "result = binarySearch(s, 0, len(s) - 1, selectedNum)\n",
        "\n",
        "if result != -1:\n",
        "  print(str(result), 'is found')\n",
        "else:\n",
        "  print(selectedNum, 'is not found')"
      ],
      "metadata": {
        "id": "hidt-vXwBw0v",
        "outputId": "bc29a53d-5222-407e-b301-4c3220d55953",
        "colab": {
          "base_uri": "https://localhost:8080/"
        }
      },
      "execution_count": 10,
      "outputs": [
        {
          "output_type": "stream",
          "name": "stdout",
          "text": [
            "58 is found\n"
          ]
        }
      ]
    },
    {
      "cell_type": "markdown",
      "source": [
        "#Question 3\n"
      ],
      "metadata": {
        "id": "_jfpFjoQFhwU"
      }
    },
    {
      "cell_type": "markdown",
      "source": [
        "# A. Insertion Sort"
      ],
      "metadata": {
        "id": "jAZHe1qEFkYu"
      }
    },
    {
      "cell_type": "code",
      "source": [
        "def insertionSort(arr):\n",
        "\n",
        "  # Get array length\n",
        "  n = len(arr)\n",
        "\n",
        "  # If the array only one value will auto return\n",
        "  if n <= 1:\n",
        "    return\n",
        "\n",
        "  # For loop start from 1 until the array length\n",
        "  for i in range(1, n):\n",
        "\n",
        "    # Assign first value\n",
        "    num1 = arr[i]\n",
        "\n",
        "    # Assign second value\n",
        "    num2 = i - 1\n",
        "\n",
        "    # When second value greather than 0 and first value\n",
        "    while num2 >=0 and num1 < arr[num2]:\n",
        "\n",
        "      # Assign the new value to second value\n",
        "      arr[num2 + 1] = arr[num2]\n",
        "      num2 -=1\n",
        "\n",
        "    # Assign second value to first value\n",
        "    arr[num2 + 1] = num1\n",
        "\n",
        "# Testing\n",
        "A = [\"myvi\", \"kancil\", \"axia\", \"kenari\", \"viva\", \"rusa\"]\n",
        "insertionSort(A)\n",
        "print(A)"
      ],
      "metadata": {
        "id": "oW1PAKufFos7",
        "outputId": "ff14edd1-7434-4f1f-864f-cf083ccd7a8e",
        "colab": {
          "base_uri": "https://localhost:8080/"
        }
      },
      "execution_count": 17,
      "outputs": [
        {
          "output_type": "stream",
          "name": "stdout",
          "text": [
            "['axia', 'kancil', 'kenari', 'myvi', 'rusa', 'viva']\n"
          ]
        }
      ]
    },
    {
      "cell_type": "markdown",
      "source": [
        "#B. Merge Sort"
      ],
      "metadata": {
        "id": "fd9c6_CAJcjc"
      }
    },
    {
      "cell_type": "code",
      "source": [
        "def merge(arr, left, mid, right):\n",
        "    # Calculate the sizes of the two subarrays\n",
        "    num1 = mid - left + 1\n",
        "    num2 = right - mid\n",
        "\n",
        "    # Create temporary arrays to hold the values of the two subarrays\n",
        "    L = [0] * num1\n",
        "    R = [0] * num2\n",
        "\n",
        "    # Copy data to temporary arrays L[] and R[]\n",
        "    for i in range(0, num1):\n",
        "        L[i] = arr[left + i]\n",
        "\n",
        "    for j in range(0, num2):\n",
        "        R[j] = arr[mid + 1 + j]\n",
        "\n",
        "    # Merge the temporary arrays back into arr[left...right]\n",
        "\n",
        "    # Initialize indices for the two subarrays and the merged array\n",
        "    i = 0\n",
        "    j = 0\n",
        "    k = left  # Initialize k to the starting index of the subarray\n",
        "\n",
        "    # Merge the two subarrays while maintaining the sorted order\n",
        "    while i < num1 and j < num2:\n",
        "        if L[i] <= R[j]:\n",
        "            arr[k] = L[i]\n",
        "            i += 1\n",
        "        else:\n",
        "            arr[k] = R[j]\n",
        "            j += 1\n",
        "        k += 1\n",
        "\n",
        "    # Copy the remaining elements of L[], if there are any\n",
        "    while i < num1:\n",
        "        arr[k] = L[i]\n",
        "        i += 1\n",
        "        k += 1\n",
        "\n",
        "    # Copy the remaining elements of R[], if there are any\n",
        "    while j < num2:\n",
        "        arr[k] = R[j]\n",
        "        j += 1\n",
        "        k += 1\n",
        "\n",
        "def mergeSort(arr, left, right):\n",
        "    if left < right:\n",
        "        # Calculate the middle index\n",
        "        mid = (left + right) // 2\n",
        "\n",
        "        # Recursively sort the first and second halves\n",
        "        mergeSort(arr, left, mid)\n",
        "        mergeSort(arr, mid + 1, right)\n",
        "\n",
        "        # Merge the sorted halves\n",
        "        merge(arr, left, mid, right)\n",
        "\n",
        "# Testing\n",
        "A = [\"myvi\", \"kancil\", \"axia\", \"kenari\", \"viva\", \"rusa\"]\n",
        "x = len(A)\n",
        "\n",
        "# Perform merge sort on the array\n",
        "mergeSort(A, 0, x - 1)\n",
        "\n",
        "# Print the sorted array\n",
        "for i in range(x):\n",
        "    print(\"%s\" % A[i], end=\" \")\n"
      ],
      "metadata": {
        "id": "TqB5v7fTJfaD",
        "outputId": "17a25f90-88e0-41bf-f2d6-9e99d5286410",
        "colab": {
          "base_uri": "https://localhost:8080/"
        }
      },
      "execution_count": 23,
      "outputs": [
        {
          "output_type": "stream",
          "name": "stdout",
          "text": [
            "axia kancil kenari myvi rusa viva "
          ]
        }
      ]
    },
    {
      "cell_type": "markdown",
      "source": [
        "#C. Cocktail Sort"
      ],
      "metadata": {
        "id": "Eof156YdPSao"
      }
    },
    {
      "cell_type": "code",
      "source": [
        "def cocktailSort(arr):\n",
        "  # Constructor\n",
        "  x = len(arr)\n",
        "  swapped = True\n",
        "  start = 0\n",
        "  end = x - 1\n",
        "\n",
        "  # When swapped equal to true, looping\n",
        "  while(swapped == True):\n",
        "    # Change swapped become to False\n",
        "    swapped = False\n",
        "\n",
        "    # If array element is greather than post-element, swapping and change the swapped become True\n",
        "    for i in range(start, end):\n",
        "      if(arr[i] > arr[i + 1]):\n",
        "        arr[i], arr[i + 1] = arr[i + 1], arr[i]\n",
        "        swapped = True\n",
        "\n",
        "      # If swapped is False, Exit the Function\n",
        "      if(swapped == False):\n",
        "        break\n",
        "\n",
        "      swapped = False\n",
        "\n",
        "      end -= 1\n",
        "\n",
        "      # If array element is greather than post-element, swapping and change the swapped become True\n",
        "      for i in range(end - 1, start - 1, -1):\n",
        "        if(arr[i] > arr[i + 1]):\n",
        "          arr[i], arr[i + 1] = arr[i + 1], arr[i]\n",
        "          swapped = True\n",
        "\n",
        "      start += 1\n",
        "\n",
        "# Testing\n",
        "A = [\"myvi\", \"kancil\", \"axia\", \"kenari\", \"viva\", \"rusa\"]\n",
        "x = len(A)\n",
        "cocktailSort(A)\n",
        "\n",
        "# Print the sorted array\n",
        "for i in range(x):\n",
        "    print(\"%s\" % A[i], end=\" \")\n"
      ],
      "metadata": {
        "id": "aRPitoYxPV1I",
        "outputId": "c3595671-1d7e-4a2b-dee1-45c6722b32cf",
        "colab": {
          "base_uri": "https://localhost:8080/"
        }
      },
      "execution_count": 24,
      "outputs": [
        {
          "output_type": "stream",
          "name": "stdout",
          "text": [
            "axia kancil kenari myvi viva rusa "
          ]
        }
      ]
    }
  ],
  "metadata": {
    "kernelspec": {
      "display_name": "Python 3",
      "name": "python3"
    },
    "language_info": {
      "name": "python"
    },
    "colab": {
      "provenance": []
    }
  },
  "nbformat": 4,
  "nbformat_minor": 0
}