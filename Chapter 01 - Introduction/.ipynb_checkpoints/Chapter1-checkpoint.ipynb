{
  "cells": [
    {
      "cell_type": "markdown",
      "metadata": {
        "id": "p6Mkz88rW9Os"
      },
      "source": [
        "# Chapter 1 - Introduction: Key Concepts, Notation, Set Theory, Relations, and Functions\n",
        "\n",
        "This notebook contains code accompanying Chapter 1 Introduction: Key Concepts, Notation, Set Theory, Relations, and Functions in *Practical Discrete Mathematics* by Ryan T. White and Archana Tikayat Ray\n",
        "\n",
        "## Functions and Relations\n",
        "\n",
        "### The `sort()` function"
      ]
    },
    {
      "cell_type": "markdown",
      "source": [],
      "metadata": {
        "id": "GRAJ0kT1ZvHC"
      }
    },
    {
      "cell_type": "code",
      "execution_count": 3,
      "metadata": {
        "id": "caIKKjZWW9Ou",
        "outputId": "a718a591-bf3d-40dc-ce7a-fb4d49fecb86",
        "colab": {
          "base_uri": "https://localhost:8080/"
        }
      },
      "outputs": [
        {
          "output_type": "stream",
          "name": "stdout",
          "text": [
            "[1, 2, 3, 4, 5, 8, 9, 12, 22, 56, 77]\n",
            "['Brandon', 'Elise', 'Eugene', 'Kumar', 'Lee', 'Wyatt', 'chan']\n"
          ]
        }
      ],
      "source": [
        "numbers = [3, 1, 4, 12, 8, 5, 2, 9, 22, 77, 56]\n",
        "names = ['Wyatt', 'Brandon', 'Kumar', 'Eugene', 'Elise', 'chan', 'Lee']\n",
        "\n",
        "# Apply the sort() function to the lists\n",
        "numbers.sort()\n",
        "names.sort()\n",
        "\n",
        "# Display the output\n",
        "print(numbers)\n",
        "print(names)"
      ]
    },
    {
      "cell_type": "markdown",
      "metadata": {
        "id": "EPgLs5EnW9Ow"
      },
      "source": [
        "### The `shuffle()` function"
      ]
    },
    {
      "cell_type": "code",
      "execution_count": 22,
      "metadata": {
        "id": "KETiUyWiW9Ow",
        "outputId": "f4c6d6f5-ea73-4275-cacd-c5a6c1fbc3fa",
        "colab": {
          "base_uri": "https://localhost:8080/"
        }
      },
      "outputs": [
        {
          "output_type": "stream",
          "name": "stdout",
          "text": [
            "[22, 100, 3, 89, 5, 12, 2, 9, 67, 8, 1, 45, 4]\n",
            "[45, 12, 8, 22, 1, 5, 4, 100, 89, 67, 2, 3, 9]\n",
            "[9, 8, 4, 45, 12, 1, 5, 2, 89, 22, 67, 100, 3]\n",
            "[4, 3, 8, 45, 2, 67, 1, 5, 12, 22, 89, 9, 100]\n",
            "[45, 100, 9, 12, 89, 5, 3, 8, 4, 1, 67, 22, 2]\n"
          ]
        }
      ],
      "source": [
        "import random\n",
        "\n",
        "# Set a random seed so the code is reproducible\n",
        "random.seed(1)\n",
        "\n",
        "# Run the random.shuffle() function 5 times and display the outputs\n",
        "for i in range(0,5):\n",
        "    numbers = [3, 1, 4, 12, 8, 5, 2, 9, 22, 45, 67, 89, 100]\n",
        "    random.shuffle(numbers)\n",
        "    print(numbers)"
      ]
    },
    {
      "cell_type": "markdown",
      "source": [
        "#Write a python code that count the number of character in your English Full name"
      ],
      "metadata": {
        "id": "cWxzS4WoZxWP"
      }
    },
    {
      "cell_type": "markdown",
      "source": [
        "# Q1. Sort the numbers in decending order for the following code"
      ],
      "metadata": {
        "id": "-CQQwpoieap-"
      }
    },
    {
      "cell_type": "code",
      "source": [
        "numbers = [12, 22, 32, 45, 56]\n",
        "names = ['Foo', 'Loh', 'Fong', 'Lim', 'Chow']\n",
        "\n",
        "# Apply the sort() function to the lists\n",
        "numbers.sort()\n",
        "names.sort()\n",
        "\n",
        "# Display the output\n",
        "print(numbers)\n",
        "print(names)"
      ],
      "metadata": {
        "id": "erBCM6YqeMxH",
        "outputId": "db32f214-8536-45e3-bbb3-8b6ca71ec2ea",
        "colab": {
          "base_uri": "https://localhost:8080/"
        }
      },
      "execution_count": 24,
      "outputs": [
        {
          "output_type": "stream",
          "name": "stdout",
          "text": [
            "[1, 2, 3, 4, 5, 8, 9, 12, 22, 56, 94]\n"
          ]
        }
      ]
    },
    {
      "cell_type": "markdown",
      "source": [
        "# Q2. Write a python code that count the number of character in your English Full name"
      ],
      "metadata": {
        "id": "u_TWKjntfMUe"
      }
    },
    {
      "cell_type": "code",
      "source": [
        "name = 'Foo Sze Jie'\n",
        "def remove(string):\n",
        "    return \"\".join(string.split())\n",
        "\n",
        "print('My name count is',name)\n",
        "\n",
        "print('My name count is',len(remove(name)))"
      ],
      "metadata": {
        "id": "cG6mVCRNfUTu",
        "outputId": "b180de05-0dd5-4828-9c66-f43f274d0285",
        "colab": {
          "base_uri": "https://localhost:8080/"
        }
      },
      "execution_count": 41,
      "outputs": [
        {
          "output_type": "stream",
          "name": "stdout",
          "text": [
            "My name count is Foo Sze Jie\n",
            "My name count is 9\n"
          ]
        }
      ]
    }
  ],
  "metadata": {
    "kernelspec": {
      "display_name": "Python 3",
      "name": "python3"
    },
    "language_info": {
      "name": "python"
    },
    "colab": {
      "provenance": []
    }
  },
  "nbformat": 4,
  "nbformat_minor": 0
}