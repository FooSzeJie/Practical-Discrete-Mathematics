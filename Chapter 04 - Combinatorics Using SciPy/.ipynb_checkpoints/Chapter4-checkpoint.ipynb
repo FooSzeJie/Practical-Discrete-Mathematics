{
  "cells": [
    {
      "cell_type": "markdown",
      "metadata": {
        "id": "_sYpEdlykXOh"
      },
      "source": [
        "# Chapter 4 - Combinatorics Using SciPy\n",
        "\n",
        "This notebook contains code accompanying Chapter 4 Combinatorics Using SciPy in *Practical Discrete Mathematics* by Ryan T. White and Archana Tikayat Ray.\n",
        "\n",
        "## Counting Permutations and Combinations of Objects\n",
        "\n",
        "### Growth of Factorials\n",
        "\n",
        "Below, we compute some factorials, which count permutations."
      ]
    },
    {
      "cell_type": "code",
      "execution_count": 3,
      "metadata": {
        "id": "Ij74K3h7kXOj",
        "outputId": "2c8cd6dc-8567-4ef9-a0bf-68ff242a5459",
        "colab": {
          "base_uri": "https://localhost:8080/"
        }
      },
      "outputs": [
        {
          "output_type": "stream",
          "name": "stdout",
          "text": [
            "2432902008176640000\n",
            "120\n"
          ]
        }
      ],
      "source": [
        "import math\n",
        "print(math.factorial(20))\n",
        "\n",
        "# 1*2*3*4*5\n",
        "print(math.factorial(5))"
      ]
    },
    {
      "cell_type": "markdown",
      "metadata": {
        "id": "X2yJ6fbskXOk"
      },
      "source": [
        "### Example: Counting playlists\n",
        "\n",
        "The number of 10-permutations of the 20-song list can be computed with Python as follows."
      ]
    },
    {
      "cell_type": "code",
      "execution_count": 4,
      "metadata": {
        "id": "GM8JGq6zkXOl",
        "outputId": "e4afff4f-334c-465d-c3ad-ca47c2fb3cb7",
        "colab": {
          "base_uri": "https://localhost:8080/"
        }
      },
      "outputs": [
        {
          "output_type": "stream",
          "name": "stdout",
          "text": [
            "670442572800.0\n"
          ]
        }
      ],
      "source": [
        "import math\n",
        "print(math.factorial(20)/math.factorial(20-10))"
      ]
    },
    {
      "cell_type": "markdown",
      "metadata": {
        "id": "yMTMISJekXOl"
      },
      "source": [
        "### Example: Teambuilding\n",
        "\n",
        "The code below finds the number of possible 4-person teams we could build from four of twenty people."
      ]
    },
    {
      "cell_type": "code",
      "execution_count": null,
      "metadata": {
        "id": "EMU8-_FckXOl",
        "outputId": "e3888d6a-5834-4bdf-a162-2f2a597e6a7f"
      },
      "outputs": [
        {
          "name": "stdout",
          "output_type": "stream",
          "text": [
            "4845.0\n",
            "4845.0\n"
          ]
        }
      ],
      "source": [
        "# using the factorial function\n",
        "import math\n",
        "print(math.factorial(20) / math.factorial(4) / math.factorial(20-4))\n",
        "\n",
        "# import the special functions from sciPy\n",
        "import scipy.special\n",
        "print(scipy.special.binom(20,4))"
      ]
    },
    {
      "cell_type": "markdown",
      "metadata": {
        "id": "HBNPWAspkXOl"
      },
      "source": [
        "## Applications to Memory Allocation\n",
        "\n",
        "### Example: Pre-allocating Memory\n",
        "\n",
        "Suppose we wish to create a large list of 1,000,000 numbers. The simplest way is to just run a loop, adding one element at a time to the vector. (Note that the runtime will vary depending on the hardware where you run the code.)"
      ]
    },
    {
      "cell_type": "code",
      "execution_count": 10,
      "metadata": {
        "id": "LxnnSzoFkXOl",
        "outputId": "6e273d40-7cd1-4546-c3c2-a025ff60ddc4",
        "colab": {
          "base_uri": "https://localhost:8080/"
        }
      },
      "outputs": [
        {
          "output_type": "stream",
          "name": "stdout",
          "text": [
            "0.14639687538146973\n"
          ]
        }
      ],
      "source": [
        "import time\n",
        "\n",
        "number = 1000000\n",
        "\n",
        "# Check the current time\n",
        "startTime = time.time()\n",
        "\n",
        "# Create an empty list\n",
        "list = []\n",
        "\n",
        "# Add items to the list one by one\n",
        "for counter in range(number):\n",
        "    list.append(counter)\n",
        "\n",
        "# append = slowly fill in\n",
        "\n",
        "# Display the run time\n",
        "print(time.time() - startTime)"
      ]
    },
    {
      "cell_type": "markdown",
      "metadata": {
        "id": "IicNslpJkXOl"
      },
      "source": [
        "The code below can pre-allocate an array with 1,000,000 and fill it in with 1, 2, ..., 1,000,000. (Note that the runtime will vary depending on the hardware where you run the code.)"
      ]
    },
    {
      "cell_type": "code",
      "execution_count": 13,
      "metadata": {
        "id": "gDwKjhr7kXOm",
        "outputId": "3b0f6b22-65ce-451a-f242-a1156ef77982",
        "colab": {
          "base_uri": "https://localhost:8080/"
        }
      },
      "outputs": [
        {
          "output_type": "stream",
          "name": "stdout",
          "text": [
            "0.1593179702758789\n"
          ]
        }
      ],
      "source": [
        "import time\n",
        "number = 1000000\n",
        "\n",
        "# Check the current time\n",
        "startTime = time.time()\n",
        "\n",
        "# Create a list of 1000000 zeros\n",
        "list = [None]*number\n",
        "\n",
        "# Add items to the list one by one\n",
        "for counter in range(number):\n",
        "    list[counter] = counter\n",
        "    print (counter)\n",
        "\n",
        "# Display the run time\n",
        "print(time.time() - startTime)"
      ]
    },
    {
      "cell_type": "markdown",
      "metadata": {
        "id": "I_Idxb8wkXOm"
      },
      "source": [
        "## Efficacy of Brute Force Algorithms\n",
        "\n",
        "### Example: Caesar Cipher\n",
        "\n",
        "A brute force check of how the text would be decoded for each possible Caesar cipher."
      ]
    },
    {
      "cell_type": "code",
      "execution_count": 25,
      "metadata": {
        "id": "QzP5HwY7kXOm",
        "outputId": "466dc881-0731-43f9-f3c7-79796c23ee74",
        "colab": {
          "base_uri": "https://localhost:8080/"
        }
      },
      "outputs": [
        {
          "output_type": "stream",
          "name": "stdout",
          "text": [
            "0 wklv lv d whvw phvvdjh\n",
            "1 xlmw mw e xiwx qiwweki\n",
            "2 ymnx nx f yjxy rjxxflj\n",
            "3 znoy oy g zkyz skyygmk\n",
            "4 aopz pz h alza tlzzhnl\n",
            "5 bpqa qa i bmab umaaiom\n",
            "6 cqrb rb j cnbc vnbbjpn\n",
            "7 drsc sc k docd wocckqo\n",
            "8 estd td l epde xpddlrp\n",
            "9 ftue ue m fqef yqeemsq\n",
            "10 guvf vf n grfg zrffntr\n",
            "11 hvwg wg o hsgh asggous\n",
            "12 iwxh xh p ithi bthhpvt\n",
            "13 jxyi yi q juij cuiiqwu\n",
            "14 kyzj zj r kvjk dvjjrxv\n",
            "15 lzak ak s lwkl ewkksyw\n",
            "16 mabl bl t mxlm fxlltzx\n",
            "17 nbcm cm u nymn gymmuay\n",
            "18 ocdn dn v ozno hznnvbz\n",
            "19 pdeo eo w paop iaoowca\n",
            "20 qefp fp x qbpq jbppxdb\n",
            "21 rfgq gq y rcqr kcqqyec\n",
            "22 sghr hr z sdrs ldrrzfd\n",
            "23 this is a test message\n",
            "24 uijt jt b uftu nfttbhf\n",
            "25 vjku ku c vguv oguucig\n"
          ]
        }
      ],
      "source": [
        "# Intercepted message\n",
        "codedMessage = 'wklv lv d whvw phvvdjh'\n",
        "\n",
        "# We will shift by 0, shift by 1, shift by 2, ... and print the results\n",
        "for counter in range(26):\n",
        "    # Start with no guess\n",
        "    guessedMessage = ''\n",
        "\n",
        "    # Loop through each letter in the coded message\n",
        "    for x in codedMessage:\n",
        "\n",
        "        # If x is not a space\n",
        "        if x != ' ':\n",
        "\n",
        "            # Shift the letter forward by counter\n",
        "            if ord(x)+counter <= 122:\n",
        "                # ord() = asii table decimal number\n",
        "                x = chr(ord(x)+counter)\n",
        "\n",
        "            # Subtract 26 if we go beyond z\n",
        "            else:\n",
        "                x = chr(ord(x)+counter-26)\n",
        "\n",
        "        # Build a guess for the message one letter at a time\n",
        "        guessedMessage = guessedMessage + x\n",
        "\n",
        "    # Print the counter (the shift) and the message\n",
        "    print(counter, guessedMessage)\n"
      ]
    },
    {
      "cell_type": "markdown",
      "metadata": {
        "id": "sp9NYV_zkXOm"
      },
      "source": [
        "Clearly, the length of the shift is 13 letters as only this one produces an intelligible message."
      ]
    },
    {
      "cell_type": "markdown",
      "source": [
        "# DeCrypt\n"
      ],
      "metadata": {
        "id": "CIfPhbvbrMGK"
      }
    },
    {
      "cell_type": "code",
      "source": [
        "def decrypt_caesar_cipher(ciphertext, key):\n",
        "   decrypted_text = \"\"\n",
        "\n",
        "   for char in ciphertext:\n",
        "       if char.isalpha():\n",
        "           is_upper = char.isupper()\n",
        "           char = char.lower()  # Work with lowercase letters for simplicity\n",
        "           decrypted_char = chr(((ord(char) - ord('a') - key) % 26) + ord('a'))\n",
        "           if is_upper:\n",
        "               decrypted_char = decrypted_char.upper()\n",
        "           decrypted_text += decrypted_char\n",
        "       else:\n",
        "           decrypted_text += char\n",
        "   return decrypted_text\n",
        "# Example usage:\n",
        "ciphertext = \"Wklv lv d whvw phvvdjh.\"\n",
        "key = 3\n",
        "plaintext = decrypt_caesar_cipher(ciphertext, key)\n",
        "print(plaintext)\n"
      ],
      "metadata": {
        "id": "_DWjMB7orUIq",
        "outputId": "1d914b22-b753-4815-e09e-0a690c8b850b",
        "colab": {
          "base_uri": "https://localhost:8080/"
        }
      },
      "execution_count": 22,
      "outputs": [
        {
          "output_type": "stream",
          "name": "stdout",
          "text": [
            "This is a test message.\n"
          ]
        }
      ]
    }
  ],
  "metadata": {
    "kernelspec": {
      "display_name": "Python 3",
      "name": "python3"
    },
    "language_info": {
      "name": "python"
    },
    "colab": {
      "provenance": []
    }
  },
  "nbformat": 4,
  "nbformat_minor": 0
}